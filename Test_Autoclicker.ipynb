{
 "cells": [
  {
   "cell_type": "code",
   "execution_count": 7,
   "metadata": {},
   "outputs": [],
   "source": [
    "import pyautogui\n",
    "from pynput.keyboard import *"
   ]
  },
  {
   "cell_type": "markdown",
   "metadata": {},
   "source": [
    "# Define Keybindings"
   ]
  },
  {
   "cell_type": "code",
   "execution_count": 8,
   "metadata": {},
   "outputs": [],
   "source": [
    "#  ======== settings ========\n",
    "delay = 1  # in seconds\n",
    "resume_key = Key.f1\n",
    "pause_key = Key.f2\n",
    "exit_key = Key.esc\n",
    "#  ==========================\n"
   ]
  },
  {
   "cell_type": "code",
   "execution_count": 9,
   "metadata": {},
   "outputs": [],
   "source": [
    "pause = True\n",
    "running = True"
   ]
  },
  {
   "cell_type": "markdown",
   "metadata": {},
   "source": [
    "# Define Keybinding Actions"
   ]
  },
  {
   "cell_type": "code",
   "execution_count": 10,
   "metadata": {},
   "outputs": [],
   "source": [
    "def on_press(key):\n",
    "    global running, pause\n",
    "\n",
    "    if key == resume_key:\n",
    "        pause = False\n",
    "        print(\"[Resumed]\")\n",
    "    elif key == pause_key:\n",
    "        pause = True\n",
    "        print(\"[Paused]\")\n",
    "    elif key == exit_key:\n",
    "        running = False\n",
    "        print(\"[Exit]\")"
   ]
  },
  {
   "cell_type": "markdown",
   "metadata": {},
   "source": [
    "# Create Terminal GUI"
   ]
  },
  {
   "cell_type": "code",
   "execution_count": 11,
   "metadata": {},
   "outputs": [],
   "source": [
    "def display_controls():\n",
    "    print(\"// AutoClicker by iSayChris\")\n",
    "    print(\"// - Settings: \")\n",
    "    print(\"\\t delay = \" + str(delay) + ' sec' + '\\n')\n",
    "    print(\"// - Controls:\")\n",
    "    print(\"\\t F1 = Resume\")\n",
    "    print(\"\\t F2 = Pause\")\n",
    "    print(\"\\t F3 = Exit\")\n",
    "    print(\"-----------------------------------------------------\")\n",
    "    print('Press F1 to start ...')\n"
   ]
  },
  {
   "cell_type": "markdown",
   "metadata": {},
   "source": [
    "# Run Program"
   ]
  },
  {
   "cell_type": "code",
   "execution_count": 12,
   "metadata": {},
   "outputs": [
    {
     "name": "stdout",
     "output_type": "stream",
     "text": [
      "// AutoClicker by iSayChris\n",
      "// - Settings: \n",
      "\t delay = 1 sec\n",
      "\n",
      "// - Controls:\n",
      "\t F1 = Resume\n",
      "\t F2 = Pause\n",
      "\t F3 = Exit\n",
      "-----------------------------------------------------\n",
      "Press F1 to start ...\n",
      "[Resumed]\n",
      "[Resumed]\n",
      "[Paused]\n"
     ]
    },
    {
     "ename": "KeyboardInterrupt",
     "evalue": "",
     "output_type": "error",
     "traceback": [
      "\u001b[1;31m---------------------------------------------------------------------------\u001b[0m",
      "\u001b[1;31mKeyboardInterrupt\u001b[0m                         Traceback (most recent call last)",
      "\u001b[1;32m<ipython-input-12-9ec6eafc4f54>\u001b[0m in \u001b[0;36m<module>\u001b[1;34m\u001b[0m\n\u001b[0;32m     12\u001b[0m \u001b[1;33m\u001b[0m\u001b[0m\n\u001b[0;32m     13\u001b[0m \u001b[1;32mif\u001b[0m \u001b[0m__name__\u001b[0m \u001b[1;33m==\u001b[0m \u001b[1;34m\"__main__\"\u001b[0m\u001b[1;33m:\u001b[0m\u001b[1;33m\u001b[0m\u001b[1;33m\u001b[0m\u001b[0m\n\u001b[1;32m---> 14\u001b[1;33m     \u001b[0mmain\u001b[0m\u001b[1;33m(\u001b[0m\u001b[1;33m)\u001b[0m\u001b[1;33m\u001b[0m\u001b[1;33m\u001b[0m\u001b[0m\n\u001b[0m",
      "\u001b[1;32m<ipython-input-12-9ec6eafc4f54>\u001b[0m in \u001b[0;36mmain\u001b[1;34m()\u001b[0m\n\u001b[0;32m      4\u001b[0m \u001b[1;33m\u001b[0m\u001b[0m\n\u001b[0;32m      5\u001b[0m     \u001b[0mdisplay_controls\u001b[0m\u001b[1;33m(\u001b[0m\u001b[1;33m)\u001b[0m\u001b[1;33m\u001b[0m\u001b[1;33m\u001b[0m\u001b[0m\n\u001b[1;32m----> 6\u001b[1;33m     \u001b[1;32mwhile\u001b[0m \u001b[0mrunning\u001b[0m\u001b[1;33m:\u001b[0m\u001b[1;33m\u001b[0m\u001b[1;33m\u001b[0m\u001b[0m\n\u001b[0m\u001b[0;32m      7\u001b[0m         \u001b[1;32mif\u001b[0m \u001b[1;32mnot\u001b[0m \u001b[0mpause\u001b[0m\u001b[1;33m:\u001b[0m\u001b[1;33m\u001b[0m\u001b[1;33m\u001b[0m\u001b[0m\n\u001b[0;32m      8\u001b[0m             \u001b[0mpyautogui\u001b[0m\u001b[1;33m.\u001b[0m\u001b[0mclick\u001b[0m\u001b[1;33m(\u001b[0m\u001b[0mpyautogui\u001b[0m\u001b[1;33m.\u001b[0m\u001b[0mposition\u001b[0m\u001b[1;33m(\u001b[0m\u001b[1;33m)\u001b[0m\u001b[1;33m)\u001b[0m\u001b[1;33m\u001b[0m\u001b[1;33m\u001b[0m\u001b[0m\n",
      "\u001b[1;31mKeyboardInterrupt\u001b[0m: "
     ]
    },
    {
     "name": "stdout",
     "output_type": "stream",
     "text": [
      "[Resumed]\n",
      "[Paused]\n",
      "[Resumed]\n",
      "[Resumed]\n",
      "[Exit]\n",
      "[Exit]\n",
      "[Exit]\n",
      "[Exit]\n",
      "[Exit]\n",
      "[Exit]\n",
      "[Exit]\n",
      "[Exit]\n",
      "[Exit]\n",
      "[Exit]\n",
      "[Exit]\n",
      "[Exit]\n",
      "[Exit]\n",
      "[Exit]\n",
      "[Exit]\n",
      "[Exit]\n",
      "[Exit]\n",
      "[Exit]\n",
      "[Exit]\n",
      "[Exit]\n",
      "[Exit]\n",
      "[Exit]\n",
      "[Exit]\n",
      "[Exit]\n",
      "[Exit]\n",
      "[Exit]\n",
      "[Exit]\n",
      "[Exit]\n",
      "[Exit]\n",
      "[Exit]\n",
      "[Exit]\n",
      "[Exit]\n",
      "[Exit]\n"
     ]
    }
   ],
   "source": [
    "def main():\n",
    "    lis = Listener(on_press=on_press)\n",
    "    lis.start()\n",
    "\n",
    "    display_controls()\n",
    "    while running:\n",
    "        if not pause:\n",
    "            pyautogui.click(pyautogui.position())\n",
    "            pyautogui.PAUSE = delay\n",
    "    lis.stop()\n",
    "\n",
    "\n",
    "if __name__ == \"__main__\":\n",
    "    main()"
   ]
  },
  {
   "cell_type": "code",
   "execution_count": null,
   "metadata": {},
   "outputs": [],
   "source": []
  }
 ],
 "metadata": {
  "kernelspec": {
   "display_name": "Python 3",
   "language": "python",
   "name": "python3"
  },
  "language_info": {
   "codemirror_mode": {
    "name": "ipython",
    "version": 3
   },
   "file_extension": ".py",
   "mimetype": "text/x-python",
   "name": "python",
   "nbconvert_exporter": "python",
   "pygments_lexer": "ipython3",
   "version": "3.8.5"
  }
 },
 "nbformat": 4,
 "nbformat_minor": 4
}
